{
 "cells": [
  {
   "cell_type": "markdown",
   "metadata": {},
   "source": [
    "# About:"
   ]
  },
  {
   "cell_type": "markdown",
   "metadata": {},
   "source": [
    "Data available with use of [Google Ngram Viewer](https://books.google.com/ngrams) is optimized for quick **on-line** inquiries into the usage of small sets of phrases. But what if you want to get the data analized **locally**? \n",
    "\n",
    "This script retrieves data from Google Ngram Viewer and allow for local data analysis."
   ]
  },
  {
   "cell_type": "markdown",
   "metadata": {},
   "source": [
    "### Dependencies"
   ]
  },
  {
   "cell_type": "markdown",
   "metadata": {},
   "source": [
    "* Python 3\n",
    "* requests\n",
    "* pandas\n",
    "* matplotlib"
   ]
  },
  {
   "cell_type": "markdown",
   "metadata": {},
   "source": [
    "# Running"
   ]
  },
  {
   "cell_type": "markdown",
   "metadata": {},
   "source": [
    "The usage of the `google_ngram.py` script accept the following parameters.\n",
    "* **list_of_words** space separated list of words to be searched\n",
    "* **corpus** (default: eng_2012) - The corporas that are available at Google Ngram Viewer are [here](https://books.google.com/ngrams/info) (scroll to Corpora section). It only support `eng` corpora.\n",
    "* **startYear** (default: 1900) in range `[1800..2008]`\n",
    "* **endYear** (default: 2008) in range `[1800..2008]`\n",
    "* **smoothing** (default: 3) Smoothing parameter (integer) in range `[0..50]`\n",
    "* **noprint** do not display results to console\n",
    "* **caseInsensitive** (default: False)return case-insensitive results\n",
    "\n",
    "*Note:* flags require single dash `-`, while parameters require double dash `--`"
   ]
  },
  {
   "cell_type": "markdown",
   "metadata": {},
   "source": [
    "python3 google_ngram.py word1word2 word3 --corpus=eng_2012 --startYear=1900 --endYear=2008  -noprint"
   ]
  },
  {
   "cell_type": "markdown",
   "metadata": {},
   "source": [
    "# Explaining Code"
   ]
  },
  {
   "cell_type": "code",
   "execution_count": 18,
   "metadata": {},
   "outputs": [],
   "source": [
    "import sys           # for script paramethers and file handling\n",
    "import requests      # for geting the data with url request\n",
    "import re            # parsing the data out of http response of a `request`\n",
    "from ast import literal_eval # evaluateexpression node or string containing a Python literal or container display to dict\n",
    "from pandas import DataFrame # pandas 2D dataframe \n",
    "import subprocess            #\n"
   ]
  },
  {
   "cell_type": "markdown",
   "metadata": {},
   "source": [
    "### 1. Data retrieval"
   ]
  },
  {
   "cell_type": "markdown",
   "metadata": {},
   "source": [
    "To prepare the url request we need to fill it with parameters:\n",
    "* query -\n",
    "* corpus - pick a literal from [here](https://books.google.com/ngrams/info) (scroll to Corpora section). It only support eng corpora.\n",
    "* startYear - in range [1800..2008]\n",
    "* endYear - in range [1800..2008]\n",
    "* caseInsensitive - bool value to disable case sensitivity for list of words\n",
    "* noprint\n",
    "\n",
    "The data is retrieved using the [requests](http://docs.python-requests.org/en/master/) package.\n",
    "As the response is a pure HTML it is searched with `re` package to get the clean and raw data. "
   ]
  },
  {
   "cell_type": "markdown",
   "metadata": {},
   "source": [
    "res = re.findall('var data = (.*?);\\\\n', req.text)"
   ]
  },
  {
   "cell_type": "markdown",
   "metadata": {},
   "source": [
    "**Credits:** Source code inspired by [this](https://github.com/econpy/google-ngrams/) very nice script"
   ]
  }
 ],
 "metadata": {
  "kernelspec": {
   "display_name": "systemowy",
   "language": "python",
   "name": "systemowy"
  },
  "language_info": {
   "codemirror_mode": {
    "name": "ipython",
    "version": 3
   },
   "file_extension": ".py",
   "mimetype": "text/x-python",
   "name": "python",
   "nbconvert_exporter": "python",
   "pygments_lexer": "ipython3",
   "version": "3.5.2"
  }
 },
 "nbformat": 4,
 "nbformat_minor": 1
}
